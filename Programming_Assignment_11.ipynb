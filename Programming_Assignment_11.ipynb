{
 "cells": [
  {
   "cell_type": "code",
   "execution_count": 6,
   "metadata": {},
   "outputs": [
    {
     "name": "stdout",
     "output_type": "stream",
     "text": [
      "Enter stringaa abc abcd abcde\n",
      "Enter Length4\n",
      "abcde\n"
     ]
    }
   ],
   "source": [
    "# 1. Write a Python program to find words which are greater than given length k?\n",
    "string=input(\"Enter string:\")\n",
    "n=int(input(\"Enter Length:\"))\n",
    "new_str_list=string.split()\n",
    "new_str=[]\n",
    "for i in new_str_list:\n",
    "    if len(i)>n:\n",
    "        new_str.append(i)\n",
    "print(\" \".join(new_str))"
   ]
  },
  {
   "cell_type": "code",
   "execution_count": 10,
   "metadata": {},
   "outputs": [
    {
     "name": "stdout",
     "output_type": "stream",
     "text": [
      "Enter string:ankit\n",
      "Enter Character's index value0\n",
      "nkit\n"
     ]
    }
   ],
   "source": [
    "#2 Write a Python program for removing i-th character from a string?\n",
    "string=input(\"Enter string:\")\n",
    "k=int((input(\"Enter Character's index value\")))\n",
    "new_string=string[:k]+string[k+1:]\n",
    "print(new_string)\n"
   ]
  },
  {
   "cell_type": "code",
   "execution_count": 13,
   "metadata": {},
   "outputs": [
    {
     "name": "stdout",
     "output_type": "stream",
     "text": [
      "Enter string:abcdeg djd \n",
      "['abcdeg', 'djd']\n",
      "abcdeg djd\n"
     ]
    }
   ],
   "source": [
    "# 3 Write a Python program to split and join a string?\n",
    "string=input(\"Enter string:\")\n",
    "list1=string.split() #Split\n",
    "print(list1)\n",
    "string=\" \".join(list1) #Join\n",
    "print(string)\n"
   ]
  },
  {
   "cell_type": "code",
   "execution_count": 22,
   "metadata": {},
   "outputs": [
    {
     "name": "stdout",
     "output_type": "stream",
     "text": [
      "True\n"
     ]
    }
   ],
   "source": [
    "#4 Write a Python to check if a given string is binary string or not? \n",
    "string='01'\n",
    "\n",
    "print(all(c in '01' for c in string))"
   ]
  },
  {
   "cell_type": "code",
   "execution_count": 44,
   "metadata": {},
   "outputs": [
    {
     "name": "stdout",
     "output_type": "stream",
     "text": [
      "Developer Science Data\n"
     ]
    }
   ],
   "source": [
    "#5. Write a Python program to find uncommon words from two Strings?\n",
    "a=\"Full Stack Data Science\"\n",
    "b=\"Full Stack Developer\"\n",
    "l=[]\n",
    "# for i in a.split():\n",
    "#     if i not in b.split():\n",
    "#         l.append(i)\n",
    "\n",
    "# print(l)\n",
    "\n",
    "a=set(a.split())\n",
    "b=set(b.split())\n",
    "print(\" \".join(a.symmetric_difference(b)))"
   ]
  },
  {
   "cell_type": "code",
   "execution_count": 49,
   "metadata": {},
   "outputs": [
    {
     "name": "stdout",
     "output_type": "stream",
     "text": [
      "l   S t a c e "
     ]
    }
   ],
   "source": [
    "# 6. Write a Python to find all duplicate characters in string?\n",
    "a=\"Full Stack Data Science\"\n",
    "d={}\n",
    "\n",
    "for c in a:\n",
    "    if c in d:\n",
    "        d[c]+=1\n",
    "    else:\n",
    "        d[c]=1\n",
    "\n",
    "        \n",
    "for i,j in d.items():\n",
    "    if j>1:\n",
    "        print(i,end=\" \")\n",
    "\n",
    "\n"
   ]
  },
  {
   "cell_type": "code",
   "execution_count": 56,
   "metadata": {},
   "outputs": [
    {
     "name": "stdout",
     "output_type": "stream",
     "text": [
      "Enter Stringdhwqguyeqw82939r3@@\n",
      "String contains special characters\n"
     ]
    }
   ],
   "source": [
    "#7 Write a Python Program to check if a string contains any special character?\n",
    "import string\n",
    "a=input(\"Enter String\")\n",
    "\n",
    "if any(i in string.punctuation for i in a):\n",
    "    print(\"String contains special characters\")\n",
    "else:\n",
    "     print(\"String does not contain any special characters\")\n"
   ]
  },
  {
   "cell_type": "code",
   "execution_count": null,
   "metadata": {},
   "outputs": [],
   "source": []
  }
 ],
 "metadata": {
  "kernelspec": {
   "display_name": "Python 3",
   "language": "python",
   "name": "python3"
  },
  "language_info": {
   "codemirror_mode": {
    "name": "ipython",
    "version": 3
   },
   "file_extension": ".py",
   "mimetype": "text/x-python",
   "name": "python",
   "nbconvert_exporter": "python",
   "pygments_lexer": "ipython3",
   "version": "3.8.3"
  }
 },
 "nbformat": 4,
 "nbformat_minor": 4
}

{
 "cells": [
  {
   "cell_type": "code",
   "execution_count": 4,
   "metadata": {},
   "outputs": [
    {
     "name": "stdout",
     "output_type": "stream",
     "text": [
      "113.2\n"
     ]
    }
   ],
   "source": [
    "# 1. Write a Python program to find sum of elements in list?\n",
    "\n",
    "l=[1,19,9,78,6.2]\n",
    "print(sum(l))"
   ]
  },
  {
   "cell_type": "code",
   "execution_count": 9,
   "metadata": {},
   "outputs": [
    {
     "data": {
      "text/plain": [
       "4730751766.540801"
      ]
     },
     "execution_count": 9,
     "metadata": {},
     "output_type": "execute_result"
    }
   ],
   "source": [
    "# 2. Write a Python program to Multiply all numbers in the list?\n",
    "l=[12.98,78,26,98,1,27,67.92]\n",
    "m=1\n",
    "for i in l:\n",
    "    m=m*i\n",
    "m\n",
    "\n",
    "\n"
   ]
  },
  {
   "cell_type": "code",
   "execution_count": 10,
   "metadata": {},
   "outputs": [
    {
     "name": "stdout",
     "output_type": "stream",
     "text": [
      "1\n"
     ]
    }
   ],
   "source": [
    "#3 3. Write a Python program to find smallest number in a list?\n",
    "l=[12.98,78,26,98,1,27,67.92]\n",
    "print(min(l))"
   ]
  },
  {
   "cell_type": "code",
   "execution_count": 11,
   "metadata": {},
   "outputs": [
    {
     "name": "stdout",
     "output_type": "stream",
     "text": [
      "98\n"
     ]
    }
   ],
   "source": [
    "# 4. Write a Python program to find largest number in a list?\n",
    "l=[12.98,78,26,98,1,27,67.92]\n",
    "print(max(l))`"
   ]
  },
  {
   "cell_type": "code",
   "execution_count": 13,
   "metadata": {},
   "outputs": [
    {
     "name": "stdout",
     "output_type": "stream",
     "text": [
      "78\n"
     ]
    }
   ],
   "source": [
    "# 5. Write a Python program to find second largest number in a list?\n",
    "l=[12.98,78,26,98,1,27,67.92]\n",
    "l.sort()\n",
    "print(l[-2])\n"
   ]
  },
  {
   "cell_type": "code",
   "execution_count": 24,
   "metadata": {},
   "outputs": [
    {
     "name": "stdout",
     "output_type": "stream",
     "text": [
      "[85, 41]\n"
     ]
    }
   ],
   "source": [
    "# 6 Write a Python program to find N largest elements from a list?\n",
    "\n",
    "\n",
    "list1=[11,2,45,1,33,10001,129]\n",
    "\n",
    "list1=list(map(int,input(\"Enter List elements\").strip().split()))\n",
    "\n",
    "#n=4\n",
    "\n",
    "n=int(input(\"Enter How many values u want\"))\n",
    "new_list=[]\n",
    "max1=0\n",
    "\n",
    "\n",
    "for i in range(n):\n",
    "    max1=0\n",
    "    for j in (range(len(list1))):\n",
    "        if list1[j]>max1:\n",
    "            max1=list1[j]\n",
    "    list1.remove(max1)\n",
    "\n",
    "    new_list.append(max1)\n",
    "print(new_list)\n",
    "\n",
    "\n",
    "\n"
   ]
  },
  {
   "cell_type": "code",
   "execution_count": 31,
   "metadata": {},
   "outputs": [
    {
     "name": "stdout",
     "output_type": "stream",
     "text": [
      "[0, 2, 4, 6, 8, 10, 12, 14, 16, 18, 20, 22, 24, 26, 28, 30, 32, 34, 36, 38, 40, 42, 44, 46, 48, 50, 52, 54, 56, 58, 60, 62, 64, 66, 68, 70, 72, 74, 76, 78, 80, 82, 84, 86, 88, 90, 92, 94, 96, 98, 100]\n"
     ]
    }
   ],
   "source": [
    "#7. Write a Python program to print even numbers in a list?\n",
    "\n",
    "print([(i)  for i in range(101) if i%2==0])"
   ]
  },
  {
   "cell_type": "code",
   "execution_count": 32,
   "metadata": {},
   "outputs": [
    {
     "name": "stdout",
     "output_type": "stream",
     "text": [
      "[1, 3, 5, 7, 9, 11, 13, 15, 17, 19, 21, 23, 25, 27, 29, 31, 33, 35, 37, 39, 41, 43, 45, 47, 49, 51, 53, 55, 57, 59, 61, 63, 65, 67, 69, 71, 73, 75, 77, 79, 81, 83, 85, 87, 89, 91, 93, 95, 97, 99]\n"
     ]
    }
   ],
   "source": [
    "# 8. Write a Python program to print odd numbers in a List?\n",
    "\n",
    "print([(i)  for i in range(101) if i%2!=0])"
   ]
  },
  {
   "cell_type": "code",
   "execution_count": 35,
   "metadata": {},
   "outputs": [
    {
     "data": {
      "text/plain": [
       "[1, 2, 3, 'aaa', [1, 2, 3, 'kk', 9.5], (14, 'dhdfhdf'), 'ssks']"
      ]
     },
     "execution_count": 35,
     "metadata": {},
     "output_type": "execute_result"
    }
   ],
   "source": [
    "# 9. Write a Python program to Remove empty List from List?\n",
    "\n",
    "list1=[1,2,3,\"aaa\",[1,2,3,\"kk\",9.5],(14,\"dhdfhdf\"),[],\"ssks\",[]]\n",
    "\n",
    "\n",
    "for i in list1:\n",
    "    if type(i)==list:\n",
    "        if len(i)==0:\n",
    "            list1.remove(i)\n",
    "\n",
    "list1"
   ]
  },
  {
   "cell_type": "code",
   "execution_count": 54,
   "metadata": {},
   "outputs": [
    {
     "name": "stdout",
     "output_type": "stream",
     "text": [
      "Original List: [11, 2, 3, 'aaa', [1, 2, 3, 'kk', 9.5], (14, 'dhdfhdf'), [], 'ssks', []]\n",
      "New List: [11, 2, 3, 'aaa', [1, 2, 3, 'kk', 9.5], (14, 'dhdfhdf'), [], 'ssks', []]\n",
      "-----------------------------------------------------------------------------------\n",
      "Original List: [1, 2, 3, 'aaa', ['Hello', 2, 3, 'kk', 9.5], (14, 'dhdfhdf'), [], 'ssks', []]\n",
      "New List: [1, 2, 3, 'aaa', ['Hello', 2, 3, 'kk', 9.5], (14, 'dhdfhdf'), [], 'ssks', []]\n"
     ]
    }
   ],
   "source": [
    "# 10. Write a Python program to Cloning or Copying a list?\n",
    "list1=[1,2,3,\"aaa\",[1,2,3,\"kk\",9.5],(14,\"dhdfhdf\"),[],\"ssks\",[]]\n",
    "new_list=list1\n",
    "new_list[0]=11 #changes will take place in both the lists because it's shallow  copy\n",
    "print(\"Original List:\",list1)\n",
    "print(\"New List:\",new_list)\n",
    "# list1\n",
    " #a=list1.copy()\n",
    "# a[4][0]=22\n",
    "# list1\n",
    "print(\"-----------------------------------------------------------------------------------\")\n",
    "list1=[1,2,3,\"aaa\",[1,2,3,\"kk\",9.5],(14,\"dhdfhdf\"),[],\"ssks\",[]]\n",
    "a=list1.copy()\n",
    "a[4][0]=\"Hello\" #changes will take place in both the lists because it's shallow  copy\n",
    "print(\"Original List:\",list1)\n",
    "print(\"New List:\",a)\n",
    "\n"
   ]
  },
  {
   "cell_type": "code",
   "execution_count": 58,
   "metadata": {},
   "outputs": [
    {
     "name": "stdout",
     "output_type": "stream",
     "text": [
      "4\n"
     ]
    }
   ],
   "source": [
    "# 11. Write a Python program to Count occurrences of an element in a list?\n",
    "\n",
    "list1=[1,\"Ahdhd\",2,1,1,1]\n",
    "print(list1.count(1))\n",
    "\n"
   ]
  }
 ],
 "metadata": {
  "kernelspec": {
   "display_name": "Python 3",
   "language": "python",
   "name": "python3"
  },
  "language_info": {
   "codemirror_mode": {
    "name": "ipython",
    "version": 3
   },
   "file_extension": ".py",
   "mimetype": "text/x-python",
   "name": "python",
   "nbconvert_exporter": "python",
   "pygments_lexer": "ipython3",
   "version": "3.8.3"
  }
 },
 "nbformat": 4,
 "nbformat_minor": 4
}

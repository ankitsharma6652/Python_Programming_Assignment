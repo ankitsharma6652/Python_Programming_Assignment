{
 "cells": [
  {
   "cell_type": "markdown",
   "metadata": {},
   "source": [
    "### Question 1:\n",
    "Please write a program using generator to print the numbers which can be divisible by 5 and<br>\n",
    "7 between 0 and n in comma separated form while n is input by console.<br>\n",
    "Example:<br>\n",
    "If the following n is given as input to the program:<br>\n",
    "100<br>\n",
    "Then, the output of the program should be:\n",
    "0,35,70<br>"
   ]
  },
  {
   "cell_type": "code",
   "execution_count": 10,
   "metadata": {},
   "outputs": [
    {
     "name": "stdout",
     "output_type": "stream",
     "text": [
      "Enter Number100\n",
      "0,35,70\n"
     ]
    }
   ],
   "source": [
    "import logging as log\n",
    "log.basicConfig(filename='Programming_Assignment_15.log',level=log.ERROR)\n",
    "def fun(n):\n",
    "    for i in range(n+1):\n",
    "        if (i%5==0) and (i%7==0):\n",
    "            yield i\n",
    "\n",
    "\n",
    "try:\n",
    "    inp=int(input(\"Enter Number\"))\n",
    "except Exception as e:\n",
    "    print(e)\n",
    "    print('Check Programming_Assignment_15.log file')\n",
    "    log.exception(e)\n",
    "else:\n",
    "    f=iter(fun(inp))\n",
    "    print(*f,sep=',')"
   ]
  },
  {
   "cell_type": "markdown",
   "metadata": {},
   "source": [
    "### Question 2:\n",
    "Please write a program using generator to print the even numbers between 0 and n in comma c\n",
    "separated form while n is input by console.<br>\n",
    "Example:<br>\n",
    "If the following n is given as input to the program:<br>\n",
    "10<br>\n",
    "Then, the output of the program should be:<br>\n",
    "0,2,4,6,8,10<br>"
   ]
  },
  {
   "cell_type": "code",
   "execution_count": 12,
   "metadata": {},
   "outputs": [
    {
     "name": "stdout",
     "output_type": "stream",
     "text": [
      "Enter Number10\n",
      "0,2,4,6,8,10\n"
     ]
    }
   ],
   "source": [
    "import logging as log\n",
    "log.basicConfig(filename='Programming_Assignment_15.log',level=log.ERROR)\n",
    "def even(n):\n",
    "    for i in range(n+1):\n",
    "        if (i%2==0):\n",
    "            yield i\n",
    "\n",
    "\n",
    "try:\n",
    "    inp=int(input(\"Enter Number\"))\n",
    "except Exception as e:\n",
    "    print(e)\n",
    "    print('Check Programming_Assignment_15.log file')\n",
    "    log.exception(e)\n",
    "else:\n",
    "    f=iter(even(inp))\n",
    "    print(*f,sep=',')"
   ]
  },
  {
   "cell_type": "markdown",
   "metadata": {},
   "source": [
    "### Question 3\n",
    "\n",
    "The Fibonacci Sequence is computed based on the following formula:<br>\n",
    "f(n)=0 if n=0<br>\n",
    "f(n)=1 if n=1<br>\n",
    "f(n)=f(n-1)+f(n-2) if n&gt;1<br>\n",
    "Please write a program using list comprehension to print the Fibonacci Sequence in comma<br>\n",
    "separated form with a given n input by console.<br>\n",
    "Example:<br>\n",
    "If the following n is given as input to the program:<br>\n",
    "7<br>\n",
    "\n",
    "Then, the output of the program should be:<br>\n",
    "0,1,1,2,3,5,8,13<br>"
   ]
  },
  {
   "cell_type": "code",
   "execution_count": null,
   "metadata": {},
   "outputs": [],
   "source": []
  },
  {
   "cell_type": "code",
   "execution_count": 66,
   "metadata": {},
   "outputs": [
    {
     "name": "stdout",
     "output_type": "stream",
     "text": [
      "4\n",
      "0 1 1 2 3\n"
     ]
    }
   ],
   "source": [
    "import logging as log\n",
    "log.basicConfig(filename='Programming_Assignment_15.log',level=log.ERROR)\n",
    "try:\n",
    "    n = int(input())\n",
    "    \n",
    "except Exception as e:\n",
    "    print(e)\n",
    "    print('Check Programming_Assignment_15.log file')\n",
    "    log.exception(e)\n",
    "else:\n",
    "    fibonacci_list = [0,1]\n",
    "    [fibonacci_list.append(fibonacci_list[k-1]+fibonacci_list[k-2]) for k in range(2,n+1)]\n",
    "    if n<=0:\n",
    "        fibonacci_list = [fibonacci_list[0]]\n",
    "        print((*fibonacci_list))\n",
    "    elif n == 1:\n",
    "       fibonacci_list = [fibonacci_list[1]]\n",
    "       print(*fibonacci_list)\n",
    "    else:\n",
    "       print(*fibonacci_list)\n"
   ]
  },
  {
   "cell_type": "markdown",
   "metadata": {},
   "source": [
    "### Question 4:\n",
    "Assuming that we have some email addresses in the &quot;username@companyname.com&quot; format,<br>\n",
    "please write program to print the user name of a given email address. Both user names and<br>\n",
    "company names are composed of letters only.<br>\n",
    "Example:<br>\n",
    "If the following email address is given as input to the program:<br>\n",
    "john@google.com<br>\n",
    "Then, the output of the program should be:<br>\n",
    "john<br>"
   ]
  },
  {
   "cell_type": "code",
   "execution_count": 73,
   "metadata": {},
   "outputs": [
    {
     "name": "stdout",
     "output_type": "stream",
     "text": [
      "Enter email addressjohn@google.com\n",
      "john\n"
     ]
    }
   ],
   "source": [
    "import logging as log\n",
    "log.basicConfig(filename='Programming_Assignment_15.log',level=log.ERROR)\n",
    "try:\n",
    "    email=input(\"Enter email address\")\n",
    "except Exception as e:\n",
    "    print(e)\n",
    "    print('Check Programming_Assignment_15.log file')\n",
    "    log.exception(e)\n",
    "else:\n",
    "    print(email[:email.find('@')])"
   ]
  },
  {
   "cell_type": "markdown",
   "metadata": {},
   "source": [
    "### Question 5:\n",
    "Define a class named Shape and its subclass Square. The Square class has an init function<br>\n",
    "which takes a length as argument. Both classes have a area function which can print the area<br>\n",
    "of the shape where Shape&#39;s area is 0 by default."
   ]
  },
  {
   "cell_type": "code",
   "execution_count": 95,
   "metadata": {},
   "outputs": [
    {
     "name": "stdout",
     "output_type": "stream",
     "text": [
      "0\n",
      "25\n"
     ]
    }
   ],
   "source": [
    "class Shape:\n",
    "    def __init__(self,length=0):\n",
    "        self.length=length\n",
    "    def area(self):\n",
    "        return self.length\n",
    "class Square(Shape):\n",
    "    def __init__(self,length):\n",
    "        self.length=length\n",
    "    def area(self):\n",
    "        return self.length**2\n",
    "if __name__=='__main__':\n",
    "    shape=Shape()\n",
    "    print(shape.area())\n",
    "    square=Square(5)\n",
    "    print(square.area())"
   ]
  }
 ],
 "metadata": {
  "kernelspec": {
   "display_name": "Python 3",
   "language": "python",
   "name": "python3"
  },
  "language_info": {
   "codemirror_mode": {
    "name": "ipython",
    "version": 3
   },
   "file_extension": ".py",
   "mimetype": "text/x-python",
   "name": "python",
   "nbconvert_exporter": "python",
   "pygments_lexer": "ipython3",
   "version": "3.8.3"
  }
 },
 "nbformat": 4,
 "nbformat_minor": 4
}

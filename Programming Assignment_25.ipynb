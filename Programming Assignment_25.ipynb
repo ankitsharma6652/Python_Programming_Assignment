{
 "cells": [
  {
   "cell_type": "markdown",
   "metadata": {},
   "source": [
    "### Question1\n",
    "Create a function that takes three integer arguments (a, b, c) and returns the amount of<br>\n",
    "integers which are of equal value.<br>\n",
    "Examples<br>\n",
    "equal(3, 4, 3) ➞ 2<br>\n",
    "equal(1, 1, 1) ➞ 3<br>\n",
    "equal(3, 4, 1) ➞ 0<br>\n",
    "Notes<br>\n",
    "Your function must return 0, 2 or 3."
   ]
  },
  {
   "cell_type": "code",
   "execution_count": 28,
   "metadata": {},
   "outputs": [],
   "source": [
    "def equal(a,b,c):\n",
    "    l=[a,b,c]\n",
    "    d={}\n",
    "    for i in l:\n",
    "        if i in d:\n",
    "            d[i]+=1\n",
    "        else:\n",
    "            d[i]=1\n",
    "    for i in d:\n",
    "        if d[i]!=1:\n",
    "            return d[i]\n",
    "        elif d[i]==1:\n",
    "            return 0"
   ]
  },
  {
   "cell_type": "code",
   "execution_count": 31,
   "metadata": {},
   "outputs": [
    {
     "data": {
      "text/plain": [
       "2"
      ]
     },
     "execution_count": 31,
     "metadata": {},
     "output_type": "execute_result"
    }
   ],
   "source": [
    "equal(3, 4, 3)"
   ]
  },
  {
   "cell_type": "code",
   "execution_count": 30,
   "metadata": {},
   "outputs": [
    {
     "data": {
      "text/plain": [
       "3"
      ]
     },
     "execution_count": 30,
     "metadata": {},
     "output_type": "execute_result"
    }
   ],
   "source": [
    "equal(1, 1, 1)"
   ]
  },
  {
   "cell_type": "code",
   "execution_count": 29,
   "metadata": {},
   "outputs": [
    {
     "data": {
      "text/plain": [
       "0"
      ]
     },
     "execution_count": 29,
     "metadata": {},
     "output_type": "execute_result"
    }
   ],
   "source": [
    "equal(3, 4, 1)"
   ]
  },
  {
   "cell_type": "markdown",
   "metadata": {},
   "source": [
    "### Question2\n",
    "Write a function that converts a dictionary into a list of keys-values tuples.<br>\n",
    "Examples<br>\n",
    "dict_to_list({<br>\n",
    "&quot;D&quot;: 1,<br>\n",
    "&quot;B&quot;: 2,<br>\n",
    "&quot;C&quot;: 3<br>\n",
    "}) ➞ [(&quot;B&quot;, 2), (&quot;C&quot;, 3), (&quot;D&quot;, 1)]<br>\n",
    "dict_to_list({<br>\n",
    "&quot;likes&quot;: 2,<br>\n",
    "&quot;dislikes&quot;: 3,\n",
    "&quot;followers&quot;: 10<br>\n",
    "}) ➞ [(&quot;dislikes&quot;, 3), (&quot;followers&quot;, 10), (&quot;likes&quot;, 2)]<br>\n",
    "Notes<br>\n",
    "Return the elements in the list in alphabetical order."
   ]
  },
  {
   "cell_type": "code",
   "execution_count": 34,
   "metadata": {},
   "outputs": [],
   "source": [
    "def dict_to_list(dict1):\n",
    "    l=[]\n",
    "    for i in dict1.items():\n",
    "        l.append(i)\n",
    "    return sorted(l)"
   ]
  },
  {
   "cell_type": "code",
   "execution_count": 35,
   "metadata": {},
   "outputs": [
    {
     "data": {
      "text/plain": [
       "[('B', 2), ('C', 3), ('D', 1)]"
      ]
     },
     "execution_count": 35,
     "metadata": {},
     "output_type": "execute_result"
    }
   ],
   "source": [
    "dict_to_list({\n",
    "\"D\": 1,\n",
    "\"B\": 2,\n",
    "\"C\": 3\n",
    "})"
   ]
  },
  {
   "cell_type": "code",
   "execution_count": 36,
   "metadata": {},
   "outputs": [
    {
     "data": {
      "text/plain": [
       "[('dislikes', 3), ('followers', 10), ('likes', 2)]"
      ]
     },
     "execution_count": 36,
     "metadata": {},
     "output_type": "execute_result"
    }
   ],
   "source": [
    "dict_to_list({\n",
    "\"likes\": 2,\n",
    "\"dislikes\": 3, \"followers\": 10\n",
    "})"
   ]
  },
  {
   "cell_type": "markdown",
   "metadata": {},
   "source": [
    "### Question3\n",
    "Write a function that creates a dictionary with each (key, value) pair being the (lower case,<br>\n",
    "upper case) versions of a letter, respectively><br>\n",
    "Examples<br>\n",
    "mapping([&quot;p&quot;, &quot;s&quot;]) ➞ { &quot;p&quot;: &quot;P&quot;, &quot;s&quot;: &quot;S&quot; }<br>\n",
    "\n",
    "mapping([&quot;a&quot;, &quot;b&quot;, &quot;c&quot;]) ➞ { &quot;a&quot;: &quot;A&quot;, &quot;b&quot;: &quot;B&quot;, &quot;c&quot;: &quot;C&quot; }<br>\n",
    "mapping([&quot;a&quot;, &quot;v&quot;, &quot;y&quot;, &quot;z&quot;]) ➞ { &quot;a&quot;: &quot;A&quot;, &quot;v&quot;: &quot;V&quot;, &quot;y&quot;: &quot;Y&quot;, &quot;z&quot;: &quot;Z&quot; }<br>\n",
    "Notes<br>\n",
    "All of the letters in the input list will always be lowercase."
   ]
  },
  {
   "cell_type": "code",
   "execution_count": 45,
   "metadata": {},
   "outputs": [],
   "source": [
    "def mapping(l):\n",
    "    d={}\n",
    "    for i in l:\n",
    "        d[i]=i.upper()\n",
    "    return d"
   ]
  },
  {
   "cell_type": "code",
   "execution_count": 46,
   "metadata": {},
   "outputs": [
    {
     "data": {
      "text/plain": [
       "{'p': 'P', 's': 'S'}"
      ]
     },
     "execution_count": 46,
     "metadata": {},
     "output_type": "execute_result"
    }
   ],
   "source": [
    "mapping([\"p\", \"s\"])"
   ]
  },
  {
   "cell_type": "code",
   "execution_count": 47,
   "metadata": {},
   "outputs": [
    {
     "data": {
      "text/plain": [
       "{'a': 'A', 'b': 'B', 'c': 'C'}"
      ]
     },
     "execution_count": 47,
     "metadata": {},
     "output_type": "execute_result"
    }
   ],
   "source": [
    "mapping([\"a\", \"b\", \"c\"])"
   ]
  },
  {
   "cell_type": "code",
   "execution_count": 48,
   "metadata": {},
   "outputs": [
    {
     "data": {
      "text/plain": [
       "{'a': 'A', 'v': 'V', 'y': 'Y', 'z': 'Z'}"
      ]
     },
     "execution_count": 48,
     "metadata": {},
     "output_type": "execute_result"
    }
   ],
   "source": [
    "mapping([\"a\", \"v\", \"y\", \"z\"]) "
   ]
  },
  {
   "cell_type": "markdown",
   "metadata": {},
   "source": [
    "### Question4\n",
    "Write a function, that replaces all vowels in a string with a specified vowel.<br>\n",
    "Examples<br>\n",
    "vow_replace(&quot;apples and bananas&quot;, &quot;u&quot;) ➞ &quot;upplus und bununus&quot;<br>\n",
    "vow_replace(&quot;cheese casserole&quot;, &quot;o&quot;) ➞ &quot;chooso cossorolo&quot;<br>\n",
    "vow_replace(&quot;stuffed jalapeno poppers&quot;, &quot;e&quot;) ➞ &quot;steffed jelepene peppers&quot;<br>\n",
    "Notes<br>\n",
    "All words will be lowercase. Y is not considered a vowel."
   ]
  },
  {
   "cell_type": "code",
   "execution_count": 50,
   "metadata": {},
   "outputs": [],
   "source": [
    "import re\n",
    "def vow_replace(string,replace):\n",
    "    return re.sub('[aeiou]',replace,string)"
   ]
  },
  {
   "cell_type": "code",
   "execution_count": 51,
   "metadata": {},
   "outputs": [
    {
     "data": {
      "text/plain": [
       "'upplus und bununus'"
      ]
     },
     "execution_count": 51,
     "metadata": {},
     "output_type": "execute_result"
    }
   ],
   "source": [
    "vow_replace(\"apples and bananas\", \"u\") "
   ]
  },
  {
   "cell_type": "code",
   "execution_count": 52,
   "metadata": {},
   "outputs": [
    {
     "data": {
      "text/plain": [
       "'chooso cossorolo'"
      ]
     },
     "execution_count": 52,
     "metadata": {},
     "output_type": "execute_result"
    }
   ],
   "source": [
    "vow_replace(\"cheese casserole\", \"o\")"
   ]
  },
  {
   "cell_type": "code",
   "execution_count": 53,
   "metadata": {},
   "outputs": [
    {
     "data": {
      "text/plain": [
       "'steffed jelepene peppers'"
      ]
     },
     "execution_count": 53,
     "metadata": {},
     "output_type": "execute_result"
    }
   ],
   "source": [
    "vow_replace(\"stuffed jalapeno poppers\", \"e\") "
   ]
  },
  {
   "cell_type": "markdown",
   "metadata": {},
   "source": [
    "### Question5\n",
    "Create a function that takes a string as input and capitalizes a letter if its ASCII code is even<br>\n",
    "and returns its lower case version if its ASCII code is odd.<br>\n",
    "Examples<br>\n",
    "ascii_capitalize(&quot;to be or not to be!&quot;) ➞ &quot;To Be oR NoT To Be!&quot;<br>\n",
    "ascii_capitalize(&quot;THE LITTLE MERMAID&quot;) ➞ &quot;THe LiTTLe meRmaiD&quot;<br>\n",
    "ascii_capitalize(&quot;Oh what a beautiful morning.&quot;) ➞ &quot;oH wHaT a BeauTiFuL\n",
    "moRNiNg.&quot;"
   ]
  },
  {
   "cell_type": "code",
   "execution_count": 55,
   "metadata": {},
   "outputs": [],
   "source": [
    "def ascii_capitalize(string):\n",
    "    s=''\n",
    "    for i in string:\n",
    "        if ord(i)%2==0:\n",
    "            s+=i.upper()\n",
    "        else:\n",
    "            s+=i.lower()\n",
    "    return s"
   ]
  },
  {
   "cell_type": "code",
   "execution_count": 56,
   "metadata": {},
   "outputs": [
    {
     "data": {
      "text/plain": [
       "'To Be oR NoT To Be!'"
      ]
     },
     "execution_count": 56,
     "metadata": {},
     "output_type": "execute_result"
    }
   ],
   "source": [
    "ascii_capitalize(\"to be or not to be!\")"
   ]
  },
  {
   "cell_type": "code",
   "execution_count": 57,
   "metadata": {},
   "outputs": [
    {
     "data": {
      "text/plain": [
       "'THe LiTTLe meRmaiD'"
      ]
     },
     "execution_count": 57,
     "metadata": {},
     "output_type": "execute_result"
    }
   ],
   "source": [
    "ascii_capitalize(\"THE LITTLE MERMAID\") "
   ]
  },
  {
   "cell_type": "code",
   "execution_count": 58,
   "metadata": {},
   "outputs": [
    {
     "data": {
      "text/plain": [
       "'oH wHaT a BeauTiFuL moRNiNg.'"
      ]
     },
     "execution_count": 58,
     "metadata": {},
     "output_type": "execute_result"
    }
   ],
   "source": [
    "ascii_capitalize(\"Oh what a beautiful morning.\") "
   ]
  },
  {
   "cell_type": "code",
   "execution_count": null,
   "metadata": {},
   "outputs": [],
   "source": []
  }
 ],
 "metadata": {
  "kernelspec": {
   "display_name": "Python 3",
   "language": "python",
   "name": "python3"
  },
  "language_info": {
   "codemirror_mode": {
    "name": "ipython",
    "version": 3
   },
   "file_extension": ".py",
   "mimetype": "text/x-python",
   "name": "python",
   "nbconvert_exporter": "python",
   "pygments_lexer": "ipython3",
   "version": "3.8.3"
  }
 },
 "nbformat": 4,
 "nbformat_minor": 4
}

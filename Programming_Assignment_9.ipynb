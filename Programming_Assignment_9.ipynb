{
 "cells": [
  {
   "cell_type": "code",
   "execution_count": 53,
   "metadata": {},
   "outputs": [
    {
     "name": "stdout",
     "output_type": "stream",
     "text": [
      "9 is a disarium number\n"
     ]
    }
   ],
   "source": [
    "#1. Write a Python program to check if the given number is a Disarium Number?\n",
    "def calculateLength(n):  \n",
    "    length = 0;  \n",
    "    while(n != 0):  \n",
    "        length = length + 1;  \n",
    "        n = n//10;  \n",
    "    return length;  \n",
    "   \n",
    "num = 9\n",
    "rem = sum = 0;  \n",
    "len = calculateLength(num);  \n",
    "   \n",
    "#Makes a copy of the original number num  \n",
    "n = num;  \n",
    "   \n",
    "#Calculates the sum of digits powered with their respective position  \n",
    "while(num > 0):  \n",
    "    rem = num%10;  \n",
    "    sum = sum + int(rem**len);  \n",
    "    num = num//10;  \n",
    "    len = len - 1;  \n",
    "   \n",
    "#Checks whether the sum is equal to the number itself  \n",
    "if(sum == n):  \n",
    "    print(str(n) + \" is a disarium number\");  \n",
    "else:  \n",
    "    print(str(n) + \" is not a disarium number\");  "
   ]
  },
  {
   "cell_type": "code",
   "execution_count": 50,
   "metadata": {},
   "outputs": [
    {
     "name": "stdout",
     "output_type": "stream",
     "text": [
      "1\n",
      "2\n",
      "3\n",
      "4\n",
      "5\n",
      "6\n",
      "7\n",
      "8\n",
      "9\n",
      "89\n"
     ]
    }
   ],
   "source": [
    "# 2. Write a Python program to print all disarium numbers between 1 to 100?\n",
    "\n",
    "\n",
    "def calculateLength(n):  \n",
    "    length = 0;  \n",
    "    while(n != 0):  \n",
    "        length = length + 1;  \n",
    "        n = n//10;  \n",
    "    return length;  \n",
    "for i in range(1,101):  \n",
    "    #num = 175;  \n",
    "    rem = sum = 0;  \n",
    "    len = calculateLength(i);  \n",
    "   \n",
    "#Makes a copy of the original number num  \n",
    "    n = i;  \n",
    "   \n",
    "#Calculates the sum of digits powered with their respective position  \n",
    "    while(n > 0):  \n",
    "        rem = n%10;  \n",
    "        sum = sum + int(rem**len);  \n",
    "        n = n//10;  \n",
    "        len = len - 1;  \n",
    "   \n",
    "#Checks whether the sum is equal to the number itself  \n",
    "    if(sum == i):  \n",
    "        print(i)   "
   ]
  },
  {
   "cell_type": "code",
   "execution_count": 59,
   "metadata": {},
   "outputs": [
    {
     "name": "stdout",
     "output_type": "stream",
     "text": [
      "82 is a happy number\n"
     ]
    }
   ],
   "source": [
    "# 3. Write a Python program to check if the given number is Happy Number?\n",
    "\n",
    "\n",
    "def IsHappyNumber(n):\n",
    "    rem=sum=0\n",
    "    while n>0:\n",
    "        rem=n%10\n",
    "        sum=sum+(rem*rem)\n",
    "        n=n//10\n",
    "    return sum\n",
    "\n",
    "num=82\n",
    "\n",
    "result = num;    \n",
    "     \n",
    "while(result != 1 and result != 4):    \n",
    "    result = isHappyNumber(result);    \n",
    "\n",
    "i#Happy number always ends with 1    \n",
    "if(result == 1):    \n",
    "    print(str(num) + \" is a happy number\");    \n",
    "#Unhappy number ends in a cycle of repeating numbers which contain 4    \n",
    "elif(result == 4):    \n",
    "    print(str(num) + \" is not a happy number\"); \n"
   ]
  },
  {
   "cell_type": "code",
   "execution_count": 63,
   "metadata": {},
   "outputs": [
    {
     "name": "stdout",
     "output_type": "stream",
     "text": [
      "1 7 10 13 19 23 28 31 32 44 49 68 70 79 82 86 91 94 97 100 "
     ]
    }
   ],
   "source": [
    "# 4. Write a Python program to print all happy numbers between 1 and 100?\n",
    "def IsHappyNumber(n):\n",
    "    rem=sum=0\n",
    "    while n>0:\n",
    "        rem=n%10\n",
    "        sum=sum+(rem*rem)\n",
    "        n=n//10\n",
    "    return sum\n",
    "\n",
    "for i in range(1,101):\n",
    "    num=i\n",
    "    result=num\n",
    "    while(result != 1 and result != 4):    \n",
    "        result = isHappyNumber(result);    \n",
    "\n",
    "\n",
    "    \n",
    "#Happy number always ends with 1    \n",
    "    if(result == 1):    \n",
    "        print(i,end=\" \");    \n",
    "#Unhappy number ends in a cycle of repeating numbers which contain 4    \n",
    "# elif(result == 4):    \n",
    "#     print(str(num) + \" is not a happy number\"); \n",
    "\n"
   ]
  },
  {
   "cell_type": "code",
   "execution_count": 69,
   "metadata": {},
   "outputs": [
    {
     "name": "stdout",
     "output_type": "stream",
     "text": [
      "Enter Number 101\n",
      "101 is not a harshad number\n"
     ]
    }
   ],
   "source": [
    "#  5. Write a Python program to determine whether the given number is a Harshad Number?\n",
    "\n",
    "num=int(input(\"Enter Number \"))\n",
    "sum=rem=0\n",
    "n=num\n",
    "while num>0:\n",
    "    rem=num%10\n",
    "    sum=sum+rem\n",
    "    num=num//10\n",
    "if(n%sum == 0):    \n",
    "    print(str(n) + \" is a harshad number\");    \n",
    "else:    \n",
    "    print(str(n) + \" is not a harshad number\");\n"
   ]
  },
  {
   "cell_type": "code",
   "execution_count": 70,
   "metadata": {},
   "outputs": [
    {
     "name": "stdout",
     "output_type": "stream",
     "text": [
      "2 6 12 20 30 42 56 72 90 "
     ]
    }
   ],
   "source": [
    "# 6. Write a Python program to print all pronic numbers between 1 and 100?\n",
    "\n",
    "def isPronicNumber(num):\n",
    "    flag=False\n",
    "    for i in range(1,num+1):\n",
    "        if(i*(i+1))==num:\n",
    "            flag=True\n",
    "            break\n",
    "    return flag\n",
    "\n",
    "for i in range(1,101):\n",
    "    if(isPronicNumber(i)):\n",
    "        print(i,end=\" \")\n",
    "            "
   ]
  }
 ],
 "metadata": {
  "kernelspec": {
   "display_name": "Python 3",
   "language": "python",
   "name": "python3"
  },
  "language_info": {
   "codemirror_mode": {
    "name": "ipython",
    "version": 3
   },
   "file_extension": ".py",
   "mimetype": "text/x-python",
   "name": "python",
   "nbconvert_exporter": "python",
   "pygments_lexer": "ipython3",
   "version": "3.8.3"
  }
 },
 "nbformat": 4,
 "nbformat_minor": 4
}
